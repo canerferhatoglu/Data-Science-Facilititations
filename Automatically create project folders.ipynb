{
 "cells": [
  {
   "cell_type": "markdown",
   "metadata": {},
   "source": [
    "# Automatically create a directory structure for repetitive projects  "
   ]
  },
  {
   "cell_type": "markdown",
   "metadata": {},
   "source": [
    "Have you ever found yourself creating new folder(s) viciously whenever you are starting a new project? \n",
    "In this code example, I am showing how to create a project directory structure, including main, and its\n",
    "sub-folders. You can use this code to automatically create folders for your project. "
   ]
  },
  {
   "cell_type": "code",
   "execution_count": null,
   "metadata": {},
   "outputs": [],
   "source": [
    "# Library\n",
    "import os\n",
    "\n",
    "# Main path\n",
    "project_path = r\"C:\\Users\\user\\files\\Project\" # Only change this part\n",
    "\n",
    "def create_project_folders(project_path):\n",
    "    # Level 0: creating the project folder\n",
    "    os.makedirs(project_path, exist_ok=True)\n",
    "    # Level 1\n",
    "    list_of_main_folders = [\"data\",\"originals\",\"Python-codes\",\"references\",\"results\",\"R-codes\",\"images\"]\n",
    "    for i in list_of_main_folders:\n",
    "        level_2_subs = os.path.join(project_path, i)\n",
    "        os.makedirs(level_2_subs, exist_ok=True)\n",
    "        # Level 2\n",
    "        sub_folders = [\"sample_pts\",\"tables\",\"features\",\"metadata\"]\n",
    "        if i == \"data\":\n",
    "            for j in sub_folders:\n",
    "                sub_folder_path = os.path.join(project_path, \"data\",j)\n",
    "                os.makedirs(sub_folder_path, exist_ok=False)\n",
    "        else:\n",
    "            print(\"no further sub-folder needs to be created!\")\n",
    "    \n",
    "\n",
    "create_project_folders(project_path)"
   ]
  }
 ],
 "metadata": {
  "kernelspec": {
   "display_name": "Python 3",
   "language": "python",
   "name": "python3"
  },
  "language_info": {
   "codemirror_mode": {
    "name": "ipython",
    "version": 3
   },
   "file_extension": ".py",
   "mimetype": "text/x-python",
   "name": "python",
   "nbconvert_exporter": "python",
   "pygments_lexer": "ipython3",
   "version": "3.7.6"
  }
 },
 "nbformat": 4,
 "nbformat_minor": 4
}
